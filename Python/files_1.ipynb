{
 "cells": [
  {
   "cell_type": "code",
   "execution_count": 16,
   "metadata": {},
   "outputs": [],
   "source": [
    "# Tractem de veure com es poden desar i carregar els fitxers amb els mallats."
   ]
  },
  {
   "cell_type": "code",
   "execution_count": 17,
   "metadata": {},
   "outputs": [
    {
     "name": "stdout",
     "output_type": "stream",
     "text": [
      "[[0.85739611 0.64721737]\n",
      " [0.87525397 0.63954851]\n",
      " [0.85601029 0.46410605]\n",
      " [0.27629252 0.33257156]\n",
      " [0.89765521 0.1944686 ]]\n",
      "[[1 2 3]\n",
      " [3 4 5]]\n"
     ]
    }
   ],
   "source": [
    "import numpy as np\n",
    "elem = np.array([[1, 2, 3],[3, 4, 5]])\n",
    "nodes = np.random.rand(5,2)\n",
    "print(nodes)\n",
    "print(elem)"
   ]
  },
  {
   "cell_type": "code",
   "execution_count": 18,
   "metadata": {},
   "outputs": [],
   "source": [
    "np.savez(\"random_mesh.npz\", nodes = nodes, elem = elem)"
   ]
  },
  {
   "cell_type": "code",
   "execution_count": 19,
   "metadata": {},
   "outputs": [
    {
     "name": "stdout",
     "output_type": "stream",
     "text": [
      "[[0.85739611 0.64721737]\n",
      " [0.87525397 0.63954851]\n",
      " [0.85601029 0.46410605]\n",
      " [0.27629252 0.33257156]\n",
      " [0.89765521 0.1944686 ]]\n",
      "<class 'numpy.ndarray'>\n",
      "[[1 2 3]\n",
      " [3 4 5]]\n",
      "<class 'numpy.ndarray'>\n"
     ]
    }
   ],
   "source": [
    "\n",
    "loaded_data = np.load(\"random_mesh.npz\")\n",
    "nodes_1 = loaded_data['nodes']\n",
    "elem_1 = loaded_data['elem']\n",
    "\n",
    "print(nodes_1)\n",
    "print(type(nodes))\n",
    "print(elem_1)\n",
    "print(type(elem_1))"
   ]
  },
  {
   "cell_type": "code",
   "execution_count": null,
   "metadata": {},
   "outputs": [],
   "source": []
  }
 ],
 "metadata": {
  "kernelspec": {
   "display_name": "jupyter-env",
   "language": "python",
   "name": "python3"
  },
  "language_info": {
   "codemirror_mode": {
    "name": "ipython",
    "version": 3
   },
   "file_extension": ".py",
   "mimetype": "text/x-python",
   "name": "python",
   "nbconvert_exporter": "python",
   "pygments_lexer": "ipython3",
   "version": "3.11.2"
  }
 },
 "nbformat": 4,
 "nbformat_minor": 2
}
